{
 "cells": [
  {
   "cell_type": "markdown",
   "metadata": {},
   "source": [
    "# Task 1"
   ]
  },
  {
   "cell_type": "code",
   "execution_count": 65,
   "metadata": {},
   "outputs": [
    {
     "name": "stdout",
     "output_type": "stream",
     "text": [
      "[2002, 2009, 2016, 2023, 2037, 2044, 2051, 2058, 2072, 2079, 2086, 2093, 2107, 2114, 2121, 2128, 2142, 2149, 2156, 2163, 2177, 2184, 2191, 2198, 2212, 2219, 2226, 2233, 2247, 2254, 2261, 2268, 2282, 2289, 2296, 2303, 2317, 2324, 2331, 2338, 2352, 2359, 2366, 2373, 2387, 2394, 2401, 2408, 2422, 2429, 2436, 2443, 2457, 2464, 2471, 2478, 2492, 2499, 2506, 2513, 2527, 2534, 2541, 2548, 2562, 2569, 2576, 2583, 2597, 2604, 2611, 2618, 2632, 2639, 2646, 2653, 2667, 2674, 2681, 2688, 2702, 2709, 2716, 2723, 2737, 2744, 2751, 2758, 2772, 2779, 2786, 2793, 2807, 2814, 2821, 2828, 2842, 2849, 2856, 2863, 2877, 2884, 2891, 2898, 2912, 2919, 2926, 2933, 2947, 2954, 2961, 2968, 2982, 2989, 2996, 3003, 3017, 3024, 3031, 3038, 3052, 3059, 3066, 3073, 3087, 3094, 3101, 3108, 3122, 3129, 3136, 3143, 3157, 3164, 3171, 3178, 3192, 3199]\n"
     ]
    }
   ],
   "source": [
    "# 2write a program to find the numbers divisible by 7 and not by 5 in a sequence.\n",
    "output =[]\n",
    "for i in range(2000,3201):\n",
    "    if((i%7 ==0) and (i%5!=0)):\n",
    "        output.append(i)\n",
    "print(output)\n",
    "\n",
    "# [i for i in range(2000,3201) if((i%7 ==0) and (i%5!=0))]"
   ]
  },
  {
   "cell_type": "code",
   "execution_count": 66,
   "metadata": {},
   "outputs": [
    {
     "name": "stdout",
     "output_type": "stream",
     "text": [
      "Enter your first name: Sherlock\n",
      "Enter your last name: Homes\n",
      "Your last and first names are: Homes   Sherlock\n"
     ]
    }
   ],
   "source": [
    "# 3write a program to take input of first name and last name and print in reverse order with a space between\n",
    "first_name= input(\"Enter your first name: \")\n",
    "last_name = input(\"Enter your last name: \")\n",
    "print(\"Your last and first names are:\", last_name,\" \",first_name)"
   ]
  },
  {
   "cell_type": "code",
   "execution_count": 67,
   "metadata": {},
   "outputs": [
    {
     "name": "stdout",
     "output_type": "stream",
     "text": [
      "The volume of sphere: 904.32\n"
     ]
    }
   ],
   "source": [
    "#4. WAP to find the volume of a sphere with diameter 12 cm\n",
    "diameter = 12\n",
    "radius = diameter/2\n",
    "volume = (4/3)*3.14*(radius**3)\n",
    "print(\"The volume of sphere: {}\".format(round(volume,3)) )\n"
   ]
  },
  {
   "cell_type": "markdown",
   "metadata": {},
   "source": [
    "# Task 2"
   ]
  },
  {
   "cell_type": "code",
   "execution_count": 75,
   "metadata": {},
   "outputs": [
    {
     "name": "stdout",
     "output_type": "stream",
     "text": [
      "Enter a comma separated sequence of numbers: 1,2,3,4,5\n"
     ]
    },
    {
     "data": {
      "text/plain": [
       "[1, 2, 3, 4, 5]"
      ]
     },
     "execution_count": 75,
     "metadata": {},
     "output_type": "execute_result"
    }
   ],
   "source": [
    "# 1. WAP to take sequence of integers(comma-separated) and convert to list\n",
    "sequence = input(\"Enter a comma separated sequence of numbers: \")\n",
    "l =list(sequence)\n",
    "[int(i)  for i in l if i!=',']\n",
    "# m=[]\n",
    "# for i in l:\n",
    "#     if i ==',':\n",
    "#         pass\n",
    "#     else:\n",
    "#         m.append(int(i))\n",
    "# print(m)\n"
   ]
  },
  {
   "cell_type": "code",
   "execution_count": null,
   "metadata": {},
   "outputs": [],
   "source": []
  },
  {
   "cell_type": "code",
   "execution_count": 77,
   "metadata": {},
   "outputs": [
    {
     "name": "stdout",
     "output_type": "stream",
     "text": [
      "*\n",
      "**\n",
      "***\n",
      "****\n",
      "*****\n",
      "****\n",
      "***\n",
      "**\n",
      "*\n"
     ]
    }
   ],
   "source": [
    "#2. WAP to print the diamond of stars\n",
    "\n",
    "for i in range(1,6):\n",
    "    print('*'*i)\n",
    "else:\n",
    "    for i in range(4,0,-1):\n",
    "        print('*'*i)"
   ]
  },
  {
   "cell_type": "code",
   "execution_count": 78,
   "metadata": {},
   "outputs": [
    {
     "name": "stdout",
     "output_type": "stream",
     "text": [
      "Enter a string: Tendulkar\n",
      "The reversed string of Tendulkar is rakludneT \n"
     ]
    }
   ],
   "source": [
    "#3. WAP to reverse the input string\n",
    "in_str = input('Enter a string: ')\n",
    "out_str = in_str[::-1]\n",
    "print('The reversed string of {} is {} '.format(in_str,out_str))"
   ]
  },
  {
   "cell_type": "code",
   "execution_count": 79,
   "metadata": {},
   "outputs": [
    {
     "name": "stdout",
     "output_type": "stream",
     "text": [
      "WE, THE PEOPLE OF INDIA,\n",
      "\t having solemnly resolved to constitute India into a SOVEREIGN,\n",
      " \t \t SOCIALIST, SECULAR, DEMOCRATIC REPUBLIC \n",
      "\t\t and to secure to all its citizens\n"
     ]
    }
   ],
   "source": [
    "#4. WAP to print the string in the specified format\n",
    "in_str = \"WE, THE PEOPLE OF INDIA,\\n\\t having solemnly resolved to constitute India into a \\\n",
    "SOVEREIGN,\\n \\t \\t SOCIALIST, SECULAR, DEMOCRATIC REPUBLIC \\n\\t\\t and to secure to all its citizens\"\n",
    "\n",
    "print(in_str)"
   ]
  },
  {
   "cell_type": "code",
   "execution_count": null,
   "metadata": {},
   "outputs": [],
   "source": []
  }
 ],
 "metadata": {
  "kernelspec": {
   "display_name": "Python 3",
   "language": "python",
   "name": "python3"
  },
  "language_info": {
   "codemirror_mode": {
    "name": "ipython",
    "version": 3
   },
   "file_extension": ".py",
   "mimetype": "text/x-python",
   "name": "python",
   "nbconvert_exporter": "python",
   "pygments_lexer": "ipython3",
   "version": "3.7.6"
  }
 },
 "nbformat": 4,
 "nbformat_minor": 4
}
